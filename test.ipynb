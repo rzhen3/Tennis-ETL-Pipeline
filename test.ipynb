{
 "cells": [
  {
   "cell_type": "code",
   "execution_count": 3,
   "id": "60562717",
   "metadata": {},
   "outputs": [],
   "source": [
    "import os\n",
    "import json"
   ]
  },
  {
   "cell_type": "code",
   "execution_count": 4,
   "id": "746f300c",
   "metadata": {},
   "outputs": [],
   "source": [
    "player = {\n",
    "    \"name\":\"fds\",\n",
    "    \"age\":15,\n",
    "    \"birthplace\":\"fdjsfdls\"\n",
    "}\n",
    "with open('test.txt', 'w') as f:\n",
    "    json.dump(player, f)"
   ]
  }
 ],
 "metadata": {
  "kernelspec": {
   "display_name": "base",
   "language": "python",
   "name": "python3"
  },
  "language_info": {
   "codemirror_mode": {
    "name": "ipython",
    "version": 3
   },
   "file_extension": ".py",
   "mimetype": "text/x-python",
   "name": "python",
   "nbconvert_exporter": "python",
   "pygments_lexer": "ipython3",
   "version": "3.12.7"
  }
 },
 "nbformat": 4,
 "nbformat_minor": 5
}
